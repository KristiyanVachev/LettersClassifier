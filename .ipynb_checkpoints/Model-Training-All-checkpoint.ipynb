{
 "cells": [
  {
   "cell_type": "code",
   "execution_count": 2,
   "metadata": {},
   "outputs": [],
   "source": [
    "#Imports\n",
    "import numpy as np \n",
    "import pandas as pd\n",
    "from tensorflow import keras\n",
    "import matplotlib.pyplot as plt"
   ]
  },
  {
   "cell_type": "markdown",
   "metadata": {},
   "source": [
    "## Load dataset\n"
   ]
  },
  {
   "cell_type": "code",
   "execution_count": 3,
   "metadata": {},
   "outputs": [],
   "source": [
    "train_path = './data/emnist-balanced-train.csv'\n",
    "test_path = './data/emnist-balanced-test.csv'"
   ]
  },
  {
   "cell_type": "code",
   "execution_count": 14,
   "metadata": {},
   "outputs": [],
   "source": [
    "train = pd.read_csv(train_path, header=None)\n",
    "classes = '0123456789ABCDEFGHIJKLMNOPQRSTUVWXYZabdefghnqrt'"
   ]
  },
  {
   "cell_type": "code",
   "execution_count": 15,
   "metadata": {},
   "outputs": [
    {
     "data": {
      "text/html": [
       "<div>\n",
       "<style scoped>\n",
       "    .dataframe tbody tr th:only-of-type {\n",
       "        vertical-align: middle;\n",
       "    }\n",
       "\n",
       "    .dataframe tbody tr th {\n",
       "        vertical-align: top;\n",
       "    }\n",
       "\n",
       "    .dataframe thead th {\n",
       "        text-align: right;\n",
       "    }\n",
       "</style>\n",
       "<table border=\"1\" class=\"dataframe\">\n",
       "  <thead>\n",
       "    <tr style=\"text-align: right;\">\n",
       "      <th></th>\n",
       "      <th>0</th>\n",
       "      <th>1</th>\n",
       "      <th>2</th>\n",
       "      <th>3</th>\n",
       "      <th>4</th>\n",
       "      <th>5</th>\n",
       "      <th>6</th>\n",
       "      <th>7</th>\n",
       "      <th>8</th>\n",
       "      <th>9</th>\n",
       "      <th>...</th>\n",
       "      <th>775</th>\n",
       "      <th>776</th>\n",
       "      <th>777</th>\n",
       "      <th>778</th>\n",
       "      <th>779</th>\n",
       "      <th>780</th>\n",
       "      <th>781</th>\n",
       "      <th>782</th>\n",
       "      <th>783</th>\n",
       "      <th>784</th>\n",
       "    </tr>\n",
       "  </thead>\n",
       "  <tbody>\n",
       "    <tr>\n",
       "      <th>0</th>\n",
       "      <td>45</td>\n",
       "      <td>0</td>\n",
       "      <td>0</td>\n",
       "      <td>0</td>\n",
       "      <td>0</td>\n",
       "      <td>0</td>\n",
       "      <td>0</td>\n",
       "      <td>0</td>\n",
       "      <td>0</td>\n",
       "      <td>0</td>\n",
       "      <td>...</td>\n",
       "      <td>0</td>\n",
       "      <td>0</td>\n",
       "      <td>0</td>\n",
       "      <td>0</td>\n",
       "      <td>0</td>\n",
       "      <td>0</td>\n",
       "      <td>0</td>\n",
       "      <td>0</td>\n",
       "      <td>0</td>\n",
       "      <td>0</td>\n",
       "    </tr>\n",
       "    <tr>\n",
       "      <th>1</th>\n",
       "      <td>36</td>\n",
       "      <td>0</td>\n",
       "      <td>0</td>\n",
       "      <td>0</td>\n",
       "      <td>0</td>\n",
       "      <td>0</td>\n",
       "      <td>0</td>\n",
       "      <td>0</td>\n",
       "      <td>0</td>\n",
       "      <td>0</td>\n",
       "      <td>...</td>\n",
       "      <td>0</td>\n",
       "      <td>0</td>\n",
       "      <td>0</td>\n",
       "      <td>0</td>\n",
       "      <td>0</td>\n",
       "      <td>0</td>\n",
       "      <td>0</td>\n",
       "      <td>0</td>\n",
       "      <td>0</td>\n",
       "      <td>0</td>\n",
       "    </tr>\n",
       "    <tr>\n",
       "      <th>2</th>\n",
       "      <td>43</td>\n",
       "      <td>0</td>\n",
       "      <td>0</td>\n",
       "      <td>0</td>\n",
       "      <td>0</td>\n",
       "      <td>0</td>\n",
       "      <td>0</td>\n",
       "      <td>0</td>\n",
       "      <td>0</td>\n",
       "      <td>0</td>\n",
       "      <td>...</td>\n",
       "      <td>0</td>\n",
       "      <td>0</td>\n",
       "      <td>0</td>\n",
       "      <td>0</td>\n",
       "      <td>0</td>\n",
       "      <td>0</td>\n",
       "      <td>0</td>\n",
       "      <td>0</td>\n",
       "      <td>0</td>\n",
       "      <td>0</td>\n",
       "    </tr>\n",
       "    <tr>\n",
       "      <th>3</th>\n",
       "      <td>15</td>\n",
       "      <td>0</td>\n",
       "      <td>0</td>\n",
       "      <td>0</td>\n",
       "      <td>0</td>\n",
       "      <td>0</td>\n",
       "      <td>0</td>\n",
       "      <td>0</td>\n",
       "      <td>0</td>\n",
       "      <td>0</td>\n",
       "      <td>...</td>\n",
       "      <td>0</td>\n",
       "      <td>0</td>\n",
       "      <td>0</td>\n",
       "      <td>0</td>\n",
       "      <td>0</td>\n",
       "      <td>0</td>\n",
       "      <td>0</td>\n",
       "      <td>0</td>\n",
       "      <td>0</td>\n",
       "      <td>0</td>\n",
       "    </tr>\n",
       "    <tr>\n",
       "      <th>4</th>\n",
       "      <td>4</td>\n",
       "      <td>0</td>\n",
       "      <td>0</td>\n",
       "      <td>0</td>\n",
       "      <td>0</td>\n",
       "      <td>0</td>\n",
       "      <td>0</td>\n",
       "      <td>0</td>\n",
       "      <td>0</td>\n",
       "      <td>0</td>\n",
       "      <td>...</td>\n",
       "      <td>0</td>\n",
       "      <td>0</td>\n",
       "      <td>0</td>\n",
       "      <td>0</td>\n",
       "      <td>0</td>\n",
       "      <td>0</td>\n",
       "      <td>0</td>\n",
       "      <td>0</td>\n",
       "      <td>0</td>\n",
       "      <td>0</td>\n",
       "    </tr>\n",
       "  </tbody>\n",
       "</table>\n",
       "<p>5 rows × 785 columns</p>\n",
       "</div>"
      ],
      "text/plain": [
       "   0    1    2    3    4    5    6    7    8    9    ...  775  776  777  778  \\\n",
       "0   45    0    0    0    0    0    0    0    0    0  ...    0    0    0    0   \n",
       "1   36    0    0    0    0    0    0    0    0    0  ...    0    0    0    0   \n",
       "2   43    0    0    0    0    0    0    0    0    0  ...    0    0    0    0   \n",
       "3   15    0    0    0    0    0    0    0    0    0  ...    0    0    0    0   \n",
       "4    4    0    0    0    0    0    0    0    0    0  ...    0    0    0    0   \n",
       "\n",
       "   779  780  781  782  783  784  \n",
       "0    0    0    0    0    0    0  \n",
       "1    0    0    0    0    0    0  \n",
       "2    0    0    0    0    0    0  \n",
       "3    0    0    0    0    0    0  \n",
       "4    0    0    0    0    0    0  \n",
       "\n",
       "[5 rows x 785 columns]"
      ]
     },
     "execution_count": 15,
     "metadata": {},
     "output_type": "execute_result"
    }
   ],
   "source": [
    "train.head()"
   ]
  },
  {
   "cell_type": "code",
   "execution_count": 16,
   "metadata": {},
   "outputs": [
    {
     "data": {
      "text/plain": [
       "(112800, 785)"
      ]
     },
     "execution_count": 16,
     "metadata": {},
     "output_type": "execute_result"
    }
   ],
   "source": [
    "train.shape"
   ]
  },
  {
   "cell_type": "markdown",
   "metadata": {},
   "source": [
    "### Images are fliped"
   ]
  },
  {
   "cell_type": "code",
   "execution_count": 31,
   "metadata": {},
   "outputs": [
    {
     "data": {
      "text/plain": [
       "<matplotlib.image.AxesImage at 0x1af0d472128>"
      ]
     },
     "execution_count": 31,
     "metadata": {},
     "output_type": "execute_result"
    },
    {
     "data": {
      "image/png": "[encoded data removed]",
      "text/plain": [
       "<Figure size 432x288 with 1 Axes>"
      ]
     },
     "metadata": {
      "needs_background": "light"
     },
     "output_type": "display_data"
    }
   ],
   "source": [
    "plt.imshow(train.values[8,1:].reshape(28, 28), cmap='Greys_r')"
   ]
  },
  {
   "cell_type": "code",
   "execution_count": 18,
   "metadata": {},
   "outputs": [
    {
     "data": {
      "text/plain": [
       "<matplotlib.image.AxesImage at 0x1af0d4ea0b8>"
      ]
     },
     "execution_count": 18,
     "metadata": {},
     "output_type": "execute_result"
    },
    {
     "data": {
      "image/png": "[encoded data removed]",
      "text/plain": [
       "<Figure size 432x288 with 1 Axes>"
      ]
     },
     "metadata": {
      "needs_background": "light"
     },
     "output_type": "display_data"
    }
   ],
   "source": [
    "img_flip = np.transpose(train.values[8,1:].reshape(28, 28), axes=[1,0])\n",
    "plt.imshow(img_flip, cmap='Greys_r')"
   ]
  },
  {
   "cell_type": "code",
   "execution_count": 23,
   "metadata": {},
   "outputs": [],
   "source": [
    "def show_img(data, row):\n",
    "    img_flip = np.transpose(data.values[row,1:].reshape(28, 28), axes=[1,0]) # img_size * img_size arrays\n",
    "    classId = str(classes[data.values[row,0]])\n",
    "    \n",
    "    plt.title('Class:' + str(data.values[row,0]) + ', Label:' + classId)\n",
    "    plt.imshow(img_flip, cmap='Greys_r')"
   ]
  },
  {
   "cell_type": "code",
   "execution_count": 24,
   "metadata": {},
   "outputs": [
    {
     "data": {
      "image/png": "[encoded data removed]",
      "text/plain": [
       "<Figure size 432x288 with 1 Axes>"
      ]
     },
     "metadata": {
      "needs_background": "light"
     },
     "output_type": "display_data"
    }
   ],
   "source": [
    "show_img(train, 8)"
   ]
  },
  {
   "cell_type": "markdown",
   "metadata": {},
   "source": [
    "# Model architecture"
   ]
  },
  {
   "cell_type": "code",
   "execution_count": 32,
   "metadata": {},
   "outputs": [],
   "source": [
    "num_classes = 47 \n",
    "img_size = 28\n",
    "\n",
    "def img_label_load(data_path, num_classes=None):\n",
    "    data = pd.read_csv(data_path, header=None)\n",
    "    data_rows = len(data)\n",
    "    \n",
    "    if not num_classes:\n",
    "        num_classes = len(data[0].unique())\n",
    "    \n",
    "    # Assuming 28x28 images\n",
    "    img_size = int(np.sqrt(len(data.iloc[0][1:])))\n",
    "    \n",
    "    imgs = np.transpose(data.values[:,1:].reshape(data_rows, img_size, img_size, 1), axes=[0,2,1,3])\n",
    "    \n",
    "    labels = keras.utils.to_categorical(data.values[:,0], num_classes) # one-hot encoding vectors\n",
    "    \n",
    "    return imgs/255., labels"
   ]
  },
  {
   "cell_type": "code",
   "execution_count": 90,
   "metadata": {},
   "outputs": [
    {
     "name": "stdout",
     "output_type": "stream",
     "text": [
      "Model: \"sequential_11\"\n",
      "_________________________________________________________________\n",
      "Layer (type)                 Output Shape              Param #   \n",
      "=================================================================\n",
      "conv2d_30 (Conv2D)           (None, 24, 24, 32)        832       \n",
      "_________________________________________________________________\n",
      "dropout_16 (Dropout)         (None, 24, 24, 32)        0         \n",
      "_________________________________________________________________\n",
      "max_pooling2d_10 (MaxPooling (None, 12, 12, 32)        0         \n",
      "_________________________________________________________________\n",
      "conv2d_31 (Conv2D)           (None, 10, 10, 64)        18496     \n",
      "_________________________________________________________________\n",
      "dropout_17 (Dropout)         (None, 10, 10, 64)        0         \n",
      "_________________________________________________________________\n",
      "max_pooling2d_11 (MaxPooling (None, 5, 5, 64)          0         \n",
      "_________________________________________________________________\n",
      "conv2d_32 (Conv2D)           (None, 3, 3, 128)         73856     \n",
      "_________________________________________________________________\n",
      "dropout_18 (Dropout)         (None, 3, 3, 128)         0         \n",
      "_________________________________________________________________\n",
      "flatten_9 (Flatten)          (None, 1152)              0         \n",
      "_________________________________________________________________\n",
      "dense_18 (Dense)             (None, 128)               147584    \n",
      "_________________________________________________________________\n",
      "dense_19 (Dense)             (None, 47)                6063      \n",
      "=================================================================\n",
      "Total params: 246,831\n",
      "Trainable params: 246,831\n",
      "Non-trainable params: 0\n",
      "_________________________________________________________________\n"
     ]
    }
   ],
   "source": [
    "model = keras.models.Sequential()\n",
    "\n",
    "model.add(keras.layers.Conv2D(filters=32, kernel_size=(5,5), activation='relu', input_shape=(img_size,img_size,1)))\n",
    "model.add(keras.layers.Dropout(.1))\n",
    "model.add(keras.layers.MaxPooling2D(pool_size=(2,2)))\n",
    "\n",
    "model.add(keras.layers.Conv2D(filters=64, kernel_size=(3,3), activation='relu'))\n",
    "model.add(keras.layers.Dropout(.1))\n",
    "model.add(keras.layers.MaxPooling2D(pool_size=(2,2)))\n",
    "\n",
    "model.add(keras.layers.Conv2D(filters=128, kernel_size=(3,3), activation='relu'))\n",
    "model.add(keras.layers.Dropout(.1))\n",
    "\n",
    "model.add(keras.layers.Flatten())\n",
    "model.add(keras.layers.Dense(units=128, activation='relu'))\n",
    "\n",
    "model.add(keras.layers.Dense(units=num_classes, activation='softmax'))\n",
    "\n",
    "model.compile(loss='categorical_crossentropy', optimizer='Adam', metrics=['accuracy'])\n",
    "\n",
    "model.summary()"
   ]
  },
  {
   "cell_type": "markdown",
   "metadata": {},
   "source": [
    "# Train"
   ]
  },
  {
   "cell_type": "code",
   "execution_count": 57,
   "metadata": {},
   "outputs": [
    {
     "name": "stdout",
     "output_type": "stream",
     "text": [
      "(112800, 28, 28, 1)\n"
     ]
    }
   ],
   "source": [
    "X, y = img_label_load(train_path)\n",
    "print(X.shape)"
   ]
  },
  {
   "cell_type": "code",
   "execution_count": 92,
   "metadata": {},
   "outputs": [
    {
     "name": "stdout",
     "output_type": "stream",
     "text": [
      "Epoch 1/20\n",
      "510/512 [============================>.] - ETA: 0s - loss: 0.4212 - acc: 0.8491Epoch 1/20\n",
      "705/512 [=========================================] - 4s 5ms/step - loss: 0.4210 - acc: 0.8449\n",
      "512/512 [==============================] - 19s 37ms/step - loss: 0.4213 - acc: 0.8489 - val_loss: 0.4424 - val_acc: 0.8449\n",
      "Epoch 2/20\n",
      "511/512 [============================>.] - ETA: 0s - loss: 0.4152 - acc: 0.8531Epoch 1/20\n",
      "705/512 [=========================================] - 4s 5ms/step - loss: 0.3946 - acc: 0.8551\n",
      "512/512 [==============================] - 18s 35ms/step - loss: 0.4151 - acc: 0.8531 - val_loss: 0.4045 - val_acc: 0.8551\n",
      "Epoch 3/20\n",
      "511/512 [============================>.] - ETA: 0s - loss: 0.3934 - acc: 0.8546Epoch 1/20\n",
      "705/512 [=========================================] - 4s 5ms/step - loss: 0.3971 - acc: 0.8559\n",
      "512/512 [==============================] - 18s 36ms/step - loss: 0.3934 - acc: 0.8547 - val_loss: 0.4067 - val_acc: 0.8559\n",
      "Epoch 4/20\n",
      "510/512 [============================>.] - ETA: 0s - loss: 0.3816 - acc: 0.8657Epoch 1/20\n",
      "705/512 [=========================================] - 4s 5ms/step - loss: 0.3821 - acc: 0.8608\n",
      "512/512 [==============================] - 18s 36ms/step - loss: 0.3817 - acc: 0.8658 - val_loss: 0.3956 - val_acc: 0.8608\n",
      "Epoch 5/20\n",
      "511/512 [============================>.] - ETA: 0s - loss: 0.3760 - acc: 0.8619Epoch 1/20\n",
      "705/512 [=========================================] - 4s 5ms/step - loss: 0.3482 - acc: 0.8713\n",
      "512/512 [==============================] - 19s 36ms/step - loss: 0.3758 - acc: 0.8621 - val_loss: 0.3756 - val_acc: 0.8713\n",
      "Epoch 6/20\n",
      "510/512 [============================>.] - ETA: 0s - loss: 0.3601 - acc: 0.8688Epoch 1/20\n",
      "705/512 [=========================================] - 4s 5ms/step - loss: 0.3562 - acc: 0.8697\n",
      "512/512 [==============================] - 18s 36ms/step - loss: 0.3605 - acc: 0.8689 - val_loss: 0.3777 - val_acc: 0.8697\n",
      "Epoch 7/20\n",
      "510/512 [============================>.] - ETA: 0s - loss: 0.3363 - acc: 0.8733Epoch 1/20\n",
      "705/512 [=========================================] - 4s 5ms/step - loss: 0.3455 - acc: 0.8664\n",
      "512/512 [==============================] - 18s 36ms/step - loss: 0.3364 - acc: 0.8734 - val_loss: 0.3802 - val_acc: 0.8664\n",
      "Epoch 8/20\n",
      "511/512 [============================>.] - ETA: 0s - loss: 0.3395 - acc: 0.8740- ETA: 1s - lossEpoch 1/20\n",
      "705/512 [=========================================] - 4s 5ms/step - loss: 0.3765 - acc: 0.8680\n",
      "512/512 [==============================] - 18s 36ms/step - loss: 0.3392 - acc: 0.8740 - val_loss: 0.3746 - val_acc: 0.8680\n",
      "Epoch 9/20\n",
      "510/512 [============================>.] - ETA: 0s - loss: 0.3497 - acc: 0.8716Epoch 1/20\n",
      "705/512 [=========================================] - 4s 5ms/step - loss: 0.3311 - acc: 0.8735\n",
      "512/512 [==============================] - 18s 36ms/step - loss: 0.3494 - acc: 0.8718 - val_loss: 0.3622 - val_acc: 0.8735\n",
      "Epoch 10/20\n",
      "511/512 [============================>.] - ETA: 0s - loss: 0.3433 - acc: 0.8742Epoch 1/20\n",
      "705/512 [=========================================] - 4s 5ms/step - loss: 0.3566 - acc: 0.8765\n",
      "512/512 [==============================] - 18s 35ms/step - loss: 0.3433 - acc: 0.8743 - val_loss: 0.3588 - val_acc: 0.8765\n",
      "Epoch 11/20\n",
      "511/512 [============================>.] - ETA: 0s - loss: 0.3521 - acc: 0.8757Epoch 1/20\n",
      "705/512 [=========================================] - 4s 5ms/step - loss: 0.3365 - acc: 0.8781\n",
      "512/512 [==============================] - 18s 35ms/step - loss: 0.3522 - acc: 0.8756 - val_loss: 0.3598 - val_acc: 0.8781\n",
      "Epoch 12/20\n",
      "510/512 [============================>.] - ETA: 0s - loss: 0.3017 - acc: 0.8847Epoch 1/20\n",
      "705/512 [=========================================] - 4s 5ms/step - loss: 0.3342 - acc: 0.8704\n",
      "512/512 [==============================] - 18s 36ms/step - loss: 0.3014 - acc: 0.8848 - val_loss: 0.3526 - val_acc: 0.8704\n",
      "Epoch 13/20\n",
      "511/512 [============================>.] - ETA: 0s - loss: 0.3183 - acc: 0.8795Epoch 1/20\n",
      "705/512 [=========================================] - 4s 5ms/step - loss: 0.3495 - acc: 0.8728\n",
      "512/512 [==============================] - 18s 36ms/step - loss: 0.3180 - acc: 0.8796 - val_loss: 0.3485 - val_acc: 0.8728\n",
      "Epoch 14/20\n",
      "510/512 [============================>.] - ETA: 0s - loss: 0.3223 - acc: 0.8794Epoch 1/20\n",
      "705/512 [=========================================] - 4s 5ms/step - loss: 0.3294 - acc: 0.8767\n",
      "512/512 [==============================] - 19s 37ms/step - loss: 0.3219 - acc: 0.8796 - val_loss: 0.3529 - val_acc: 0.8767\n",
      "Epoch 15/20\n",
      "510/512 [============================>.] - ETA: 0s - loss: 0.3102 - acc: 0.8798- ETA: 0s - loss: 0.3107 - acc: 0.8Epoch 1/20\n",
      "705/512 [=========================================] - 4s 5ms/step - loss: 0.3386 - acc: 0.8760\n",
      "512/512 [==============================] - 19s 37ms/step - loss: 0.3101 - acc: 0.8798 - val_loss: 0.3537 - val_acc: 0.8760\n",
      "Epoch 16/20\n",
      "511/512 [============================>.] - ETA: 0s - loss: 0.3039 - acc: 0.8853Epoch 1/20\n",
      "705/512 [=========================================] - 4s 5ms/step - loss: 0.3507 - acc: 0.8738\n",
      "512/512 [==============================] - 19s 37ms/step - loss: 0.3043 - acc: 0.8850 - val_loss: 0.3553 - val_acc: 0.8738\n",
      "Epoch 17/20\n",
      "510/512 [============================>.] - ETA: 0s - loss: 0.2949 - acc: 0.8878Epoch 1/20\n",
      "705/512 [=========================================] - 4s 5ms/step - loss: 0.3312 - acc: 0.8820\n",
      "512/512 [==============================] - 19s 36ms/step - loss: 0.2952 - acc: 0.8878 - val_loss: 0.3396 - val_acc: 0.8820\n",
      "Epoch 18/20\n",
      "511/512 [============================>.] - ETA: 0s - loss: 0.2869 - acc: 0.8919Epoch 1/20\n",
      "705/512 [=========================================] - 4s 5ms/step - loss: 0.3205 - acc: 0.8801\n",
      "512/512 [==============================] - 18s 36ms/step - loss: 0.2870 - acc: 0.8917 - val_loss: 0.3390 - val_acc: 0.8801\n",
      "Epoch 19/20\n",
      "511/512 [============================>.] - ETA: 0s - loss: 0.2919 - acc: 0.8883Epoch 1/20\n",
      "705/512 [=========================================] - 4s 5ms/step - loss: 0.3235 - acc: 0.8777\n",
      "512/512 [==============================] - 18s 36ms/step - loss: 0.2918 - acc: 0.8882 - val_loss: 0.3403 - val_acc: 0.8777\n",
      "Epoch 20/20\n",
      "510/512 [============================>.] - ETA: 0s - loss: 0.2900 - acc: 0.8876Epoch 1/20\n",
      "705/512 [=========================================] - 4s 5ms/step - loss: 0.3279 - acc: 0.8846\n",
      "512/512 [==============================] - 18s 35ms/step - loss: 0.2897 - acc: 0.8876 - val_loss: 0.3335 - val_acc: 0.8846\n"
     ]
    }
   ],
   "source": [
    "data_generator = keras.preprocessing.image.ImageDataGenerator(validation_split=.2)\n",
    "\n",
    "data_generator_with_aug = keras.preprocessing.image.ImageDataGenerator(validation_split=.2,\n",
    "                                            width_shift_range=.2, height_shift_range=.2,\n",
    "                                            rotation_range=60, zoom_range=.2, shear_range=.3)\n",
    "\n",
    "training_data_generator = data_generator.flow(X, y, subset='training')\n",
    "validation_data_generator = data_generator.flow(X, y, subset='validation')\n",
    "history = model.fit_generator(training_data_generator, \n",
    "                              steps_per_epoch=512, epochs=20,\n",
    "                              validation_data=validation_data_generator)"
   ]
  },
  {
   "cell_type": "code",
   "execution_count": 93,
   "metadata": {},
   "outputs": [
    {
     "data": {
      "text/plain": [
       "[0.25973543727123144, 0.9031206]"
      ]
     },
     "execution_count": 93,
     "metadata": {},
     "output_type": "execute_result"
    }
   ],
   "source": [
    "test_X, test_y = img_label_load(test_path)\n",
    "test_data_generator = data_generator.flow(X, y)\n",
    "\n",
    "model.evaluate_generator(test_data_generator)"
   ]
  },
  {
   "cell_type": "markdown",
   "metadata": {},
   "source": [
    "# Save model"
   ]
  },
  {
   "cell_type": "code",
   "execution_count": 107,
   "metadata": {},
   "outputs": [],
   "source": [
    "model.save('./model2-full-all-20-epochs.h5')"
   ]
  },
  {
   "cell_type": "markdown",
   "metadata": {},
   "source": [
    "# Plot loss and accuracy"
   ]
  },
  {
   "cell_type": "code",
   "execution_count": 95,
   "metadata": {},
   "outputs": [
    {
     "name": "stdout",
     "output_type": "stream",
     "text": [
      "dict_keys(['loss', 'acc', 'val_loss', 'val_acc'])\n"
     ]
    },
    {
     "data": {
      "image/png": "[encoded data removed]",
      "text/plain": [
       "<Figure size 432x288 with 1 Axes>"
      ]
     },
     "metadata": {
      "needs_background": "light"
     },
     "output_type": "display_data"
    },
    {
     "data": {
      "image/png": "[encoded data removed]",
      "text/plain": [
       "<Figure size 432x288 with 1 Axes>"
      ]
     },
     "metadata": {
      "needs_background": "light"
     },
     "output_type": "display_data"
    }
   ],
   "source": [
    "import matplotlib.pyplot as plt\n",
    "\n",
    "print(history.history.keys())\n",
    "\n",
    "# accuracy\n",
    "plt.plot(history.history['acc'])\n",
    "plt.plot(history.history['val_acc'])\n",
    "plt.title('model accuracy')\n",
    "plt.ylabel('accuracy')\n",
    "plt.xlabel('epoch')\n",
    "plt.legend(['train', 'validation'], loc='lower right')\n",
    "plt.show()\n",
    "\n",
    "# loss\n",
    "plt.plot(history.history['loss'])\n",
    "plt.plot(history.history['val_loss'])\n",
    "plt.title('model loss')\n",
    "plt.ylabel('loss')\n",
    "plt.xlabel('epoch')\n",
    "plt.legend(['train', 'validation'], loc='upper right')\n",
    "plt.show()"
   ]
  },
  {
   "cell_type": "markdown",
   "metadata": {},
   "source": [
    "# Test on custom images"
   ]
  },
  {
   "cell_type": "code",
   "execution_count": 96,
   "metadata": {},
   "outputs": [],
   "source": [
    "def run_prediction(img):\n",
    "    result = np.argmax(model.predict(img))\n",
    "    confidence = max(model.predict(img)[0])\n",
    "    \n",
    "    return result, confidence"
   ]
  },
  {
   "cell_type": "markdown",
   "metadata": {},
   "source": [
    "### Prepare images for the imput of the NN"
   ]
  },
  {
   "cell_type": "code",
   "execution_count": 97,
   "metadata": {},
   "outputs": [],
   "source": [
    "from PIL import Image, ImageFilter\n",
    "\n",
    "def image_to_emnist(img):\n",
    "    img = img.resize((28, 28), Image.ANTIALIAS).filter(ImageFilter.SHARPEN)\n",
    "    \n",
    "    img_canvas = Image.new('L', (28, 28), (255))\n",
    "    img_canvas.paste(img)\n",
    "    \n",
    "    img_data = list(img_canvas.getdata())\n",
    "\n",
    "    #Normalize pixels to 0 and 1. 0 is pure white, 1 is pure black.\n",
    "    img_normalized = [(255 - x) * 1.0 / 255.0 for x in img_data]\n",
    "    \n",
    "    return img_normalized"
   ]
  },
  {
   "cell_type": "code",
   "execution_count": 103,
   "metadata": {},
   "outputs": [],
   "source": [
    "imgPath = './sample_images/z.png'"
   ]
  },
  {
   "cell_type": "code",
   "execution_count": 104,
   "metadata": {},
   "outputs": [],
   "source": [
    "img = Image.open(imgPath)\n",
    "\n",
    "img_emnist = np.array(image_to_emnist(img)).reshape(1,28,28,1)"
   ]
  },
  {
   "cell_type": "code",
   "execution_count": 105,
   "metadata": {},
   "outputs": [],
   "source": [
    "result, confidence = run_prediction(img_emnist)"
   ]
  },
  {
   "cell_type": "code",
   "execution_count": 106,
   "metadata": {},
   "outputs": [
    {
     "name": "stdout",
     "output_type": "stream",
     "text": [
      "Prediction: Z , Confidence: 0.7341815\n"
     ]
    },
    {
     "data": {
      "image/png": "[encoded data removed]",
      "text/plain": [
       "<Figure size 432x288 with 1 Axes>"
      ]
     },
     "metadata": {
      "needs_background": "light"
     },
     "output_type": "display_data"
    }
   ],
   "source": [
    "plt.imshow(img_emnist.reshape(28,28), cmap='Greys_r')\n",
    "print('Prediction:', classes[result], ', Confidence:', confidence)"
   ]
  },
  {
   "cell_type": "code",
   "execution_count": null,
   "metadata": {},
   "outputs": [],
   "source": []
  }
 ],
 "metadata": {
  "kernelspec": {
   "display_name": "Python 3",
   "language": "python",
   "name": "python3"
  },
  "language_info": {
   "codemirror_mode": {
    "name": "ipython",
    "version": 3
   },
   "file_extension": ".py",
   "mimetype": "text/x-python",
   "name": "python",
   "nbconvert_exporter": "python",
   "pygments_lexer": "ipython3",
   "version": "3.7.2"
  }
 },
 "nbformat": 4,
 "nbformat_minor": 4
}
