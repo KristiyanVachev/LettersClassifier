{
 "cells": [
  {
   "cell_type": "markdown",
   "metadata": {},
   "source": [
    "# Imports"
   ]
  },
  {
   "cell_type": "code",
   "execution_count": 1,
   "metadata": {},
   "outputs": [],
   "source": [
    "import numpy as np \n",
    "import pandas as pd\n",
    "from tensorflow import keras\n",
    "import matplotlib.pyplot as plt"
   ]
  },
  {
   "cell_type": "markdown",
   "metadata": {},
   "source": [
    "# Load dataset\n"
   ]
  },
  {
   "cell_type": "code",
   "execution_count": 2,
   "metadata": {},
   "outputs": [],
   "source": [
    "train_path = './data/emnist-balanced-train.csv'\n",
    "test_path = './data/emnist-balanced-test.csv'"
   ]
  },
  {
   "cell_type": "code",
   "execution_count": 3,
   "metadata": {},
   "outputs": [],
   "source": [
    "train = pd.read_csv(train_path, header=None)"
   ]
  },
  {
   "cell_type": "code",
   "execution_count": 4,
   "metadata": {},
   "outputs": [],
   "source": [
    "classes = '0123456789ABCDEFGHIJKLMNOPQRSTUVWXYZabdefghnqrt'"
   ]
  },
  {
   "cell_type": "code",
   "execution_count": 6,
   "metadata": {},
   "outputs": [
    {
     "data": {
      "text/plain": [
       "(112800, 785)"
      ]
     },
     "execution_count": 6,
     "metadata": {},
     "output_type": "execute_result"
    }
   ],
   "source": [
    "train.shape"
   ]
  },
  {
   "cell_type": "code",
   "execution_count": 8,
   "metadata": {},
   "outputs": [],
   "source": [
    "def show_img(data, row):\n",
    "    img_flip = np.transpose(data.values[row,1:].reshape(28, 28), axes=[1,0]) # img_size * img_size arrays\n",
    "    plt.title('Class: ' + str(data.values[row,0]) + ', Label: ' + str(classes[data.values[row,0]]))\n",
    "    plt.imshow(img_flip, cmap='Greys_r')"
   ]
  },
  {
   "cell_type": "code",
   "execution_count": 9,
   "metadata": {},
   "outputs": [
    {
     "data": {
      "image/png": "[encoded data removed]",
      "text/plain": [
       "<Figure size 432x288 with 1 Axes>"
      ]
     },
     "metadata": {
      "needs_background": "light"
     },
     "output_type": "display_data"
    }
   ],
   "source": [
    "show_img(train, 8)"
   ]
  },
  {
   "cell_type": "code",
   "execution_count": 11,
   "metadata": {},
   "outputs": [],
   "source": [
    "num_classes = 47 \n",
    "img_size = 28\n",
    "\n",
    "def img_label_load(data_path, num_classes=None):\n",
    "    data = pd.read_csv(data_path, header=None)\n",
    "    data_rows = len(data)\n",
    "    if not num_classes:\n",
    "        num_classes = len(data[0].unique())\n",
    "    \n",
    "    # this assumes square imgs. Should be 28x28\n",
    "    img_size = int(np.sqrt(len(data.iloc[0][1:])))\n",
    "    \n",
    "    # Images need to be transposed. This line also does the reshaping needed.\n",
    "    imgs = np.transpose(data.values[:,1:].reshape(data_rows, img_size, img_size, 1), axes=[0,2,1,3]) # img_size * img_size arrays\n",
    "    \n",
    "    labels = keras.utils.to_categorical(data.values[:,0], num_classes) # one-hot encoding vectors\n",
    "    \n",
    "    return imgs/255., labels"
   ]
  },
  {
   "cell_type": "markdown",
   "metadata": {},
   "source": [
    "# Model architecture"
   ]
  },
  {
   "cell_type": "code",
   "execution_count": 12,
   "metadata": {},
   "outputs": [
    {
     "name": "stdout",
     "output_type": "stream",
     "text": [
      "WARNING:tensorflow:From c:\\users\\kristiyan vachev\\appdata\\local\\programs\\python\\python37\\lib\\site-packages\\tensorflow_core\\python\\ops\\resource_variable_ops.py:1630: calling BaseResourceVariable.__init__ (from tensorflow.python.ops.resource_variable_ops) with constraint is deprecated and will be removed in a future version.\n",
      "Instructions for updating:\n",
      "If using Keras pass *_constraint arguments to layers.\n",
      "Model: \"sequential\"\n",
      "_________________________________________________________________\n",
      "Layer (type)                 Output Shape              Param #   \n",
      "=================================================================\n",
      "conv2d (Conv2D)              (None, 12, 12, 12)        312       \n",
      "_________________________________________________________________\n",
      "dropout (Dropout)            (None, 12, 12, 12)        0         \n",
      "_________________________________________________________________\n",
      "conv2d_1 (Conv2D)            (None, 5, 5, 18)          1962      \n",
      "_________________________________________________________________\n",
      "dropout_1 (Dropout)          (None, 5, 5, 18)          0         \n",
      "_________________________________________________________________\n",
      "conv2d_2 (Conv2D)            (None, 4, 4, 24)          1752      \n",
      "_________________________________________________________________\n",
      "flatten (Flatten)            (None, 384)               0         \n",
      "_________________________________________________________________\n",
      "dense (Dense)                (None, 150)               57750     \n",
      "_________________________________________________________________\n",
      "dense_1 (Dense)              (None, 47)                7097      \n",
      "=================================================================\n",
      "Total params: 68,873\n",
      "Trainable params: 68,873\n",
      "Non-trainable params: 0\n",
      "_________________________________________________________________\n"
     ]
    }
   ],
   "source": [
    "model = keras.models.Sequential()\n",
    "\n",
    "model.add(keras.layers.Conv2D(filters=12, kernel_size=(5,5), strides=2, activation='relu', input_shape=(img_size,img_size,1)))\n",
    "model.add(keras.layers.Dropout(.5))\n",
    "\n",
    "model.add(keras.layers.Conv2D(filters=18, kernel_size=(3,3) , strides=2, activation='relu'))\n",
    "model.add(keras.layers.Dropout(.5))\n",
    "\n",
    "model.add(keras.layers.Conv2D(filters=24, kernel_size=(2,2), activation='relu'))\n",
    "\n",
    "model.add(keras.layers.Flatten())\n",
    "model.add(keras.layers.Dense(units=150, activation='relu'))\n",
    "model.add(keras.layers.Dense(units=num_classes, activation='softmax'))\n",
    "\n",
    "model.compile(loss='categorical_crossentropy', optimizer='Adam', metrics=['accuracy'])\n",
    "model.summary()"
   ]
  },
  {
   "cell_type": "markdown",
   "metadata": {},
   "source": [
    "# Train"
   ]
  },
  {
   "cell_type": "code",
   "execution_count": 14,
   "metadata": {},
   "outputs": [
    {
     "name": "stdout",
     "output_type": "stream",
     "text": [
      "(112800, 28, 28, 1)\n"
     ]
    }
   ],
   "source": [
    "X, y = img_label_load(train_path)\n",
    "print(X.shape)"
   ]
  },
  {
   "cell_type": "code",
   "execution_count": 15,
   "metadata": {},
   "outputs": [
    {
     "name": "stdout",
     "output_type": "stream",
     "text": [
      "Epoch 1/50\n",
      "497/500 [============================>.] - ETA: 0s - loss: 2.5691 - acc: 0.3100Epoch 1/50\n",
      "705/500 [==========================================] - 1s 2ms/step - loss: 1.4504 - acc: 0.5646\n",
      "500/500 [==============================] - 6s 11ms/step - loss: 2.5628 - acc: 0.3117 - val_loss: 1.4733 - val_acc: 0.5646\n",
      "Epoch 2/50\n",
      "495/500 [============================>.] - ETA: 0s - loss: 1.4780 - acc: 0.5628Epoch 1/50\n",
      "705/500 [==========================================] - 1s 2ms/step - loss: 1.0236 - acc: 0.6830\n",
      "500/500 [==============================] - 5s 10ms/step - loss: 1.4780 - acc: 0.5629 - val_loss: 1.0364 - val_acc: 0.6830\n",
      "Epoch 3/50\n",
      "492/500 [============================>.] - ETA: 0s - loss: 1.1951 - acc: 0.6367Epoch 1/50\n",
      "705/500 [==========================================] - 1s 2ms/step - loss: 0.8593 - acc: 0.7302\n",
      "500/500 [==============================] - 5s 10ms/step - loss: 1.1939 - acc: 0.6370 - val_loss: 0.8755 - val_acc: 0.7302\n",
      "Epoch 4/50\n",
      "494/500 [============================>.] - ETA: 0s - loss: 1.0306 - acc: 0.6824Epoch 1/50\n",
      "705/500 [==========================================] - 1s 2ms/step - loss: 0.7845 - acc: 0.7434\n",
      "500/500 [==============================] - 5s 10ms/step - loss: 1.0300 - acc: 0.6830 - val_loss: 0.7911 - val_acc: 0.7434\n",
      "Epoch 5/50\n",
      "493/500 [============================>.] - ETA: 0s - loss: 0.9600 - acc: 0.6959Epoch 1/50\n",
      "705/500 [==========================================] - 1s 2ms/step - loss: 0.7254 - acc: 0.7660\n",
      "500/500 [==============================] - 5s 10ms/step - loss: 0.9591 - acc: 0.6962 - val_loss: 0.7173 - val_acc: 0.7660\n",
      "Epoch 6/50\n",
      "495/500 [============================>.] - ETA: 0s - loss: 0.8994 - acc: 0.7090Epoch 1/50\n",
      "705/500 [==========================================] - 1s 2ms/step - loss: 0.6661 - acc: 0.7861\n",
      "500/500 [==============================] - 5s 11ms/step - loss: 0.8994 - acc: 0.7089 - val_loss: 0.6681 - val_acc: 0.7861\n",
      "Epoch 7/50\n",
      "494/500 [============================>.] - ETA: 0s - loss: 0.8289 - acc: 0.7295Epoch 1/50\n",
      "705/500 [==========================================] - 2s 2ms/step - loss: 0.6669 - acc: 0.7866\n",
      "500/500 [==============================] - 5s 11ms/step - loss: 0.8269 - acc: 0.7307 - val_loss: 0.6596 - val_acc: 0.7866\n",
      "Epoch 8/50\n",
      "496/500 [============================>.] - ETA: 0s - loss: 0.8128 - acc: 0.7370Epoch 1/50\n",
      "705/500 [==========================================] - 2s 2ms/step - loss: 0.6419 - acc: 0.7954\n",
      "500/500 [==============================] - 5s 11ms/step - loss: 0.8132 - acc: 0.7369 - val_loss: 0.6228 - val_acc: 0.7954\n",
      "Epoch 9/50\n",
      "499/500 [============================>.] - ETA: 0s - loss: 0.7742 - acc: 0.7503Epoch 1/50\n",
      "705/500 [==========================================] - 1s 2ms/step - loss: 0.6134 - acc: 0.8095\n",
      "500/500 [==============================] - 5s 10ms/step - loss: 0.7751 - acc: 0.7503 - val_loss: 0.5901 - val_acc: 0.8095\n",
      "Epoch 10/50\n",
      "498/500 [============================>.] - ETA: 0s - loss: 0.7567 - acc: 0.7539Epoch 1/50\n",
      "705/500 [==========================================] - 2s 2ms/step - loss: 0.6026 - acc: 0.8054\n",
      "500/500 [==============================] - 6s 13ms/step - loss: 0.7575 - acc: 0.7538 - val_loss: 0.5880 - val_acc: 0.8054\n",
      "Epoch 11/50\n",
      "497/500 [============================>.] - ETA: 0s - loss: 0.7359 - acc: 0.7639- ETA: 0s - loss: 0.7379 - aEpoch 1/50\n",
      "705/500 [==========================================] - 2s 2ms/step - loss: 0.5778 - acc: 0.8130\n",
      "500/500 [==============================] - 5s 11ms/step - loss: 0.7360 - acc: 0.7640 - val_loss: 0.5628 - val_acc: 0.8130\n",
      "Epoch 12/50\n",
      "497/500 [============================>.] - ETA: 0s - loss: 0.7153 - acc: 0.7640Epoch 1/50\n",
      "705/500 [==========================================] - 1s 2ms/step - loss: 0.5742 - acc: 0.8124\n",
      "500/500 [==============================] - 5s 9ms/step - loss: 0.7151 - acc: 0.7641 - val_loss: 0.5576 - val_acc: 0.8124\n",
      "Epoch 13/50\n",
      "493/500 [============================>.] - ETA: 0s - loss: 0.6965 - acc: 0.7739Epoch 1/50\n",
      "705/500 [==========================================] - 1s 2ms/step - loss: 0.5651 - acc: 0.8159\n",
      "500/500 [==============================] - 5s 9ms/step - loss: 0.6969 - acc: 0.7738 - val_loss: 0.5433 - val_acc: 0.8159\n",
      "Epoch 14/50\n",
      "495/500 [============================>.] - ETA: 0s - loss: 0.6827 - acc: 0.7709Epoch 1/50\n",
      "705/500 [==========================================] - 2s 2ms/step - loss: 0.5608 - acc: 0.8231\n",
      "500/500 [==============================] - 5s 10ms/step - loss: 0.6821 - acc: 0.7707 - val_loss: 0.5344 - val_acc: 0.8231\n",
      "Epoch 15/50\n",
      "499/500 [============================>.] - ETA: 0s - loss: 0.6549 - acc: 0.7777Epoch 1/50\n",
      "705/500 [==========================================] - 1s 2ms/step - loss: 0.5766 - acc: 0.8242\n",
      "500/500 [==============================] - 5s 11ms/step - loss: 0.6548 - acc: 0.7778 - val_loss: 0.5326 - val_acc: 0.8242\n",
      "Epoch 16/50\n",
      "492/500 [============================>.] - ETA: 0s - loss: 0.6579 - acc: 0.7817Epoch 1/50\n",
      "705/500 [==========================================] - 1s 2ms/step - loss: 0.5446 - acc: 0.8232\n",
      "500/500 [==============================] - 5s 10ms/step - loss: 0.6583 - acc: 0.7814 - val_loss: 0.5213 - val_acc: 0.8232\n",
      "Epoch 17/50\n",
      "493/500 [============================>.] - ETA: 0s - loss: 0.6614 - acc: 0.7856Epoch 1/50\n",
      "705/500 [==========================================] - 1s 2ms/step - loss: 0.5298 - acc: 0.8270\n",
      "500/500 [==============================] - 5s 10ms/step - loss: 0.6601 - acc: 0.7860 - val_loss: 0.5148 - val_acc: 0.8270\n",
      "Epoch 18/50\n",
      "498/500 [============================>.] - ETA: 0s - loss: 0.6471 - acc: 0.7848Epoch 1/50\n",
      "705/500 [==========================================] - 1s 2ms/step - loss: 0.5483 - acc: 0.8227\n",
      "500/500 [==============================] - 5s 10ms/step - loss: 0.6473 - acc: 0.7849 - val_loss: 0.5216 - val_acc: 0.8227\n",
      "Epoch 19/50\n",
      "493/500 [============================>.] - ETA: 0s - loss: 0.6418 - acc: 0.7845Epoch 1/50\n",
      "705/500 [==========================================] - 1s 2ms/step - loss: 0.5472 - acc: 0.8266\n",
      "500/500 [==============================] - 5s 10ms/step - loss: 0.6431 - acc: 0.7838 - val_loss: 0.5026 - val_acc: 0.8266\n",
      "Epoch 20/50\n",
      "495/500 [============================>.] - ETA: 0s - loss: 0.6124 - acc: 0.7929Epoch 1/50\n",
      "705/500 [==========================================] - 1s 2ms/step - loss: 0.5335 - acc: 0.8274\n",
      "500/500 [==============================] - 5s 10ms/step - loss: 0.6127 - acc: 0.7928 - val_loss: 0.5109 - val_acc: 0.8274\n",
      "Epoch 21/50\n",
      "493/500 [============================>.] - ETA: 0s - loss: 0.6290 - acc: 0.7889Epoch 1/50\n",
      "705/500 [==========================================] - 1s 2ms/step - loss: 0.5254 - acc: 0.8258\n",
      "500/500 [==============================] - 5s 10ms/step - loss: 0.6283 - acc: 0.7890 - val_loss: 0.5120 - val_acc: 0.8258\n",
      "Epoch 22/50\n",
      "498/500 [============================>.] - ETA: 0s - loss: 0.6221 - acc: 0.7913Epoch 1/50\n",
      "705/500 [==========================================] - 1s 2ms/step - loss: 0.5315 - acc: 0.8312\n",
      "500/500 [==============================] - 5s 10ms/step - loss: 0.6219 - acc: 0.7912 - val_loss: 0.4936 - val_acc: 0.8312\n",
      "Epoch 23/50\n",
      "496/500 [============================>.] - ETA: 0s - loss: 0.6156 - acc: 0.7888Epoch 1/50\n",
      "705/500 [==========================================] - 1s 2ms/step - loss: 0.5269 - acc: 0.8341\n",
      "500/500 [==============================] - 5s 10ms/step - loss: 0.6141 - acc: 0.7893 - val_loss: 0.4892 - val_acc: 0.8341\n",
      "Epoch 24/50\n",
      "495/500 [============================>.] - ETA: 0s - loss: 0.5936 - acc: 0.7974Epoch 1/50\n",
      "705/500 [==========================================] - 1s 2ms/step - loss: 0.5254 - acc: 0.8353\n",
      "500/500 [==============================] - 5s 10ms/step - loss: 0.5946 - acc: 0.7971 - val_loss: 0.4875 - val_acc: 0.8353\n",
      "Epoch 25/50\n",
      "492/500 [============================>.] - ETA: 0s - loss: 0.5897 - acc: 0.8010Epoch 1/50\n",
      "705/500 [==========================================] - 1s 2ms/step - loss: 0.5134 - acc: 0.8389\n",
      "500/500 [==============================] - 5s 10ms/step - loss: 0.5887 - acc: 0.8017 - val_loss: 0.4773 - val_acc: 0.8389\n",
      "Epoch 26/50\n",
      "496/500 [============================>.] - ETA: 0s - loss: 0.5989 - acc: 0.7978Epoch 1/50\n",
      "705/500 [==========================================] - 1s 2ms/step - loss: 0.5169 - acc: 0.8350\n",
      "500/500 [==============================] - 5s 10ms/step - loss: 0.5988 - acc: 0.7979 - val_loss: 0.4885 - val_acc: 0.8350\n",
      "Epoch 27/50\n",
      "496/500 [============================>.] - ETA: 0s - loss: 0.5869 - acc: 0.8000Epoch 1/50\n",
      "705/500 [==========================================] - 1s 2ms/step - loss: 0.4997 - acc: 0.8410\n",
      "500/500 [==============================] - 5s 10ms/step - loss: 0.5876 - acc: 0.8000 - val_loss: 0.4729 - val_acc: 0.8410\n",
      "Epoch 28/50\n",
      "493/500 [============================>.] - ETA: 0s - loss: 0.5983 - acc: 0.7957Epoch 1/50\n",
      "705/500 [==========================================] - 1s 2ms/step - loss: 0.4982 - acc: 0.8417\n",
      "500/500 [==============================] - 5s 10ms/step - loss: 0.5990 - acc: 0.7953 - val_loss: 0.4744 - val_acc: 0.8417\n",
      "Epoch 29/50\n",
      "492/500 [============================>.] - ETA: 0s - loss: 0.5611 - acc: 0.8074Epoch 1/50\n",
      "705/500 [==========================================] - 1s 2ms/step - loss: 0.5136 - acc: 0.8393\n",
      "500/500 [==============================] - 5s 10ms/step - loss: 0.5619 - acc: 0.8073 - val_loss: 0.4761 - val_acc: 0.8393\n",
      "Epoch 30/50\n",
      "496/500 [============================>.] - ETA: 0s - loss: 0.5696 - acc: 0.8029Epoch 1/50\n",
      "705/500 [==========================================] - 1s 2ms/step - loss: 0.5086 - acc: 0.8418\n",
      "500/500 [==============================] - 5s 10ms/step - loss: 0.5689 - acc: 0.8030 - val_loss: 0.4703 - val_acc: 0.8418\n",
      "Epoch 31/50\n",
      "494/500 [============================>.] - ETA: 0s - loss: 0.5581 - acc: 0.8070Epoch 1/50\n",
      "705/500 [==========================================] - 1s 2ms/step - loss: 0.4954 - acc: 0.8411\n",
      "500/500 [==============================] - 5s 10ms/step - loss: 0.5586 - acc: 0.8069 - val_loss: 0.4666 - val_acc: 0.8411\n",
      "Epoch 32/50\n",
      "492/500 [============================>.] - ETA: 0s - loss: 0.5854 - acc: 0.7981Epoch 1/50\n",
      "705/500 [==========================================] - 1s 2ms/step - loss: 0.4961 - acc: 0.8359\n",
      "500/500 [==============================] - 5s 10ms/step - loss: 0.5870 - acc: 0.7977 - val_loss: 0.4700 - val_acc: 0.8359\n",
      "Epoch 33/50\n",
      "494/500 [============================>.] - ETA: 0s - loss: 0.5721 - acc: 0.8030Epoch 1/50\n",
      "705/500 [==========================================] - 1s 2ms/step - loss: 0.4923 - acc: 0.8423\n",
      "500/500 [==============================] - 5s 10ms/step - loss: 0.5728 - acc: 0.8032 - val_loss: 0.4596 - val_acc: 0.8423\n",
      "Epoch 34/50\n",
      "492/500 [============================>.] - ETA: 0s - loss: 0.5642 - acc: 0.8032Epoch 1/50\n",
      "705/500 [==========================================] - 1s 2ms/step - loss: 0.4792 - acc: 0.8443\n",
      "500/500 [==============================] - 5s 10ms/step - loss: 0.5646 - acc: 0.8033 - val_loss: 0.4607 - val_acc: 0.8443\n",
      "Epoch 35/50\n",
      "494/500 [============================>.] - ETA: 0s - loss: 0.5563 - acc: 0.8046Epoch 1/50\n",
      "705/500 [==========================================] - 1s 2ms/step - loss: 0.4901 - acc: 0.8406\n",
      "500/500 [==============================] - 5s 10ms/step - loss: 0.5551 - acc: 0.8048 - val_loss: 0.4653 - val_acc: 0.8406\n",
      "Epoch 36/50\n",
      "493/500 [============================>.] - ETA: 0s - loss: 0.5427 - acc: 0.8122Epoch 1/50\n",
      "705/500 [==========================================] - 1s 2ms/step - loss: 0.4928 - acc: 0.8429\n",
      "500/500 [==============================] - 5s 10ms/step - loss: 0.5447 - acc: 0.8116 - val_loss: 0.4610 - val_acc: 0.8429\n",
      "Epoch 37/50\n",
      "495/500 [============================>.] - ETA: 0s - loss: 0.5452 - acc: 0.8126Epoch 1/50\n",
      "705/500 [==========================================] - 1s 2ms/step - loss: 0.4887 - acc: 0.8431\n",
      "500/500 [==============================] - 5s 10ms/step - loss: 0.5442 - acc: 0.8128 - val_loss: 0.4552 - val_acc: 0.8431\n",
      "Epoch 38/50\n",
      "492/500 [============================>.] - ETA: 0s - loss: 0.5551 - acc: 0.8081Epoch 1/50\n",
      "705/500 [==========================================] - 1s 2ms/step - loss: 0.4957 - acc: 0.8426\n",
      "500/500 [==============================] - 5s 10ms/step - loss: 0.5545 - acc: 0.8084 - val_loss: 0.4641 - val_acc: 0.8426\n",
      "Epoch 39/50\n",
      "494/500 [============================>.] - ETA: 0s - loss: 0.5511 - acc: 0.8060Epoch 1/50\n",
      "705/500 [==========================================] - 1s 2ms/step - loss: 0.4749 - acc: 0.8491\n",
      "500/500 [==============================] - 5s 10ms/step - loss: 0.5536 - acc: 0.8056 - val_loss: 0.4473 - val_acc: 0.8491\n",
      "Epoch 40/50\n",
      "494/500 [============================>.] - ETA: 0s - loss: 0.5419 - acc: 0.8143Epoch 1/50\n",
      "705/500 [==========================================] - 2s 2ms/step - loss: 0.4925 - acc: 0.8437\n",
      "500/500 [==============================] - 5s 11ms/step - loss: 0.5419 - acc: 0.8141 - val_loss: 0.4541 - val_acc: 0.8437\n",
      "Epoch 41/50\n",
      "497/500 [============================>.] - ETA: 0s - loss: 0.5301 - acc: 0.8099Epoch 1/50\n",
      "705/500 [==========================================] - 2s 2ms/step - loss: 0.4808 - acc: 0.8477\n",
      "500/500 [==============================] - 5s 10ms/step - loss: 0.5303 - acc: 0.8098 - val_loss: 0.4510 - val_acc: 0.8477\n",
      "Epoch 42/50\n",
      "496/500 [============================>.] - ETA: 0s - loss: 0.5255 - acc: 0.8148Epoch 1/50\n",
      "705/500 [==========================================] - 1s 2ms/step - loss: 0.4762 - acc: 0.8440\n",
      "500/500 [==============================] - 5s 10ms/step - loss: 0.5254 - acc: 0.8149 - val_loss: 0.4541 - val_acc: 0.8440\n",
      "Epoch 43/50\n",
      "494/500 [============================>.] - ETA: 0s - loss: 0.5366 - acc: 0.8111Epoch 1/50\n",
      "705/500 [==========================================] - 2s 2ms/step - loss: 0.4795 - acc: 0.8425\n",
      "500/500 [==============================] - 5s 10ms/step - loss: 0.5353 - acc: 0.8118 - val_loss: 0.4556 - val_acc: 0.8425\n",
      "Epoch 44/50\n",
      "498/500 [============================>.] - ETA: 0s - loss: 0.5500 - acc: 0.8120Epoch 1/50\n",
      "705/500 [==========================================] - 2s 2ms/step - loss: 0.4828 - acc: 0.8477\n",
      "500/500 [==============================] - 5s 11ms/step - loss: 0.5504 - acc: 0.8117 - val_loss: 0.4488 - val_acc: 0.8477\n",
      "Epoch 45/50\n",
      "496/500 [============================>.] - ETA: 0s - loss: 0.5464 - acc: 0.8112Epoch 1/50\n",
      "705/500 [==========================================] - 1s 2ms/step - loss: 0.4761 - acc: 0.8465\n",
      "500/500 [==============================] - 5s 10ms/step - loss: 0.5455 - acc: 0.8116 - val_loss: 0.4470 - val_acc: 0.8465\n",
      "Epoch 46/50\n",
      "494/500 [============================>.] - ETA: 0s - loss: 0.5139 - acc: 0.8208Epoch 1/50\n",
      "705/500 [==========================================] - 1s 2ms/step - loss: 0.4644 - acc: 0.8520\n",
      "500/500 [==============================] - 5s 11ms/step - loss: 0.5129 - acc: 0.8212 - val_loss: 0.4404 - val_acc: 0.8520\n",
      "Epoch 47/50\n",
      "493/500 [============================>.] - ETA: 0s - loss: 0.5252 - acc: 0.8146Epoch 1/50\n",
      "705/500 [==========================================] - 2s 2ms/step - loss: 0.4802 - acc: 0.8463\n",
      "500/500 [==============================] - 5s 11ms/step - loss: 0.5246 - acc: 0.8144 - val_loss: 0.4536 - val_acc: 0.8463\n",
      "Epoch 48/50\n",
      "492/500 [============================>.] - ETA: 0s - loss: 0.5245 - acc: 0.8159Epoch 1/50\n",
      "705/500 [==========================================] - 1s 2ms/step - loss: 0.4774 - acc: 0.8454\n",
      "500/500 [==============================] - 5s 10ms/step - loss: 0.5235 - acc: 0.8166 - val_loss: 0.4504 - val_acc: 0.8454\n",
      "Epoch 49/50\n",
      "497/500 [============================>.] - ETA: 0s - loss: 0.5484 - acc: 0.8097Epoch 1/50\n",
      "705/500 [==========================================] - 1s 2ms/step - loss: 0.4740 - acc: 0.8498\n",
      "500/500 [==============================] - 5s 10ms/step - loss: 0.5488 - acc: 0.8097 - val_loss: 0.4458 - val_acc: 0.8498\n",
      "Epoch 50/50\n",
      "499/500 [============================>.] - ETA: 0s - loss: 0.5224 - acc: 0.8166Epoch 1/50\n",
      "705/500 [==========================================] - 1s 2ms/step - loss: 0.4707 - acc: 0.8438\n",
      "500/500 [==============================] - 5s 10ms/step - loss: 0.5230 - acc: 0.8167 - val_loss: 0.4461 - val_acc: 0.8438\n"
     ]
    }
   ],
   "source": [
    "data_generator = keras.preprocessing.image.ImageDataGenerator(validation_split=.2)\n",
    "\n",
    "data_generator_with_aug = keras.preprocessing.image.ImageDataGenerator(validation_split=.2,\n",
    "                                            width_shift_range=.2, height_shift_range=.2,\n",
    "                                            rotation_range=60, zoom_range=.2, shear_range=.3)\n",
    "\n",
    "training_data_generator = data_generator.flow(X, y, subset='training')\n",
    "validation_data_generator = data_generator.flow(X, y, subset='validation')\n",
    "history = model.fit_generator(training_data_generator, \n",
    "                              steps_per_epoch=500, epochs=50,\n",
    "                              validation_data=validation_data_generator)"
   ]
  },
  {
   "cell_type": "code",
   "execution_count": 16,
   "metadata": {},
   "outputs": [
    {
     "data": {
      "text/plain": [
       "[0.39090541965995274, 0.8580851]"
      ]
     },
     "execution_count": 16,
     "metadata": {},
     "output_type": "execute_result"
    }
   ],
   "source": [
    "test_X, test_y = img_label_load(test_path)\n",
    "test_data_generator = data_generator.flow(X, y)\n",
    "\n",
    "model.evaluate_generator(test_data_generator)"
   ]
  },
  {
   "cell_type": "markdown",
   "metadata": {},
   "source": [
    "# Save model"
   ]
  },
  {
   "cell_type": "code",
   "execution_count": 40,
   "metadata": {},
   "outputs": [],
   "source": [
    "with open('model.json', 'w') as f:\n",
    "    f.write(model.to_json())\n",
    "model.save_weights('./model-all-50-epochs.h5')"
   ]
  },
  {
   "cell_type": "markdown",
   "metadata": {},
   "source": [
    "# Plot loss and accuracy"
   ]
  },
  {
   "cell_type": "code",
   "execution_count": 23,
   "metadata": {},
   "outputs": [
    {
     "name": "stdout",
     "output_type": "stream",
     "text": [
      "dict_keys(['loss', 'acc', 'val_loss', 'val_acc'])\n"
     ]
    },
    {
     "data": {
      "image/png": "[encoded data removed]",
      "text/plain": [
       "<Figure size 432x288 with 1 Axes>"
      ]
     },
     "metadata": {
      "needs_background": "light"
     },
     "output_type": "display_data"
    },
    {
     "data": {
      "image/png": "[encoded data removed]",
      "text/plain": [
       "<Figure size 432x288 with 1 Axes>"
      ]
     },
     "metadata": {
      "needs_background": "light"
     },
     "output_type": "display_data"
    }
   ],
   "source": [
    "import matplotlib.pyplot as plt\n",
    "\n",
    "print(history.history.keys())\n",
    "\n",
    "# accuracy\n",
    "plt.plot(history.history['acc'])\n",
    "plt.plot(history.history['val_acc'])\n",
    "plt.title('model accuracy')\n",
    "plt.ylabel('accuracy')\n",
    "plt.xlabel('epoch')\n",
    "plt.legend(['train', 'validation'], loc='lower right')\n",
    "plt.show()\n",
    "\n",
    "# loss\n",
    "plt.plot(history.history['loss'])\n",
    "plt.plot(history.history['val_loss'])\n",
    "plt.title('model loss')\n",
    "plt.ylabel('loss')\n",
    "plt.xlabel('epoch')\n",
    "plt.legend(['train', 'validation'], loc='upper right')\n",
    "plt.show()"
   ]
  },
  {
   "cell_type": "markdown",
   "metadata": {},
   "source": [
    "# Custom images test"
   ]
  },
  {
   "cell_type": "code",
   "execution_count": 24,
   "metadata": {},
   "outputs": [],
   "source": [
    "from PIL import Image, ImageFilter\n",
    "\n",
    "def image_to_emnist(argv):\n",
    "    \"\"\"\n",
    "    This function returns the pixel values.\n",
    "    The imput is a png file location.\n",
    "    \"\"\"\n",
    "    im = Image.open(argv).convert('L')\n",
    "    width = float(im.size[0])\n",
    "    height = float(im.size[1])\n",
    "    newImage = Image.new('L', (28, 28), (255))  # creates white canvas of 28x28 pixels\n",
    "\n",
    "    if width > height:  # check which dimension is bigger\n",
    "        # Width is bigger. Width becomes 20 pixels.\n",
    "        nheight = int(round((28.0 / width * height), 0))  # resize height according to ratio width\n",
    "        if (nheight == 0):  # rare case but minimum is 1 pixel\n",
    "            nheight = 1\n",
    "            # resize and sharpen\n",
    "        img = im.resize((28, nheight), Image.ANTIALIAS).filter(ImageFilter.SHARPEN)\n",
    "        wtop = int(round(((28 - nheight) / 2), 0))  # calculate horizontal position\n",
    "        newImage.paste(img, (0, wtop))  # paste resized image on white canvas\n",
    "    else:\n",
    "        # Height is bigger. Heigth becomes 20 pixels.\n",
    "        nwidth = int(round((28.0 / height * width), 0))  # resize width according to ratio height\n",
    "        if (nwidth == 0):  # rare case but minimum is 1 pixel\n",
    "            nwidth = 1\n",
    "            # resize and sharpen\n",
    "        img = im.resize((nwidth, 28), Image.ANTIALIAS).filter(ImageFilter.SHARPEN)\n",
    "        wleft = int(round(((28 - nwidth) / 2), 0))  # caculate vertical pozition\n",
    "        newImage.paste(img, (wleft, 0))  # paste resized image on white canvas\n",
    "\n",
    "    # newImage.save(\"sample.png\n",
    "\n",
    "    tv = list(newImage.getdata())  # get pixel values\n",
    "\n",
    "    # normalize pixels to 0 and 1. 0 is pure white, 1 is pure black.\n",
    "    tva = [(255 - x) * 1.0 / 255.0 for x in tv]\n",
    "    return tva"
   ]
  },
  {
   "cell_type": "code",
   "execution_count": 35,
   "metadata": {},
   "outputs": [],
   "source": [
    "img = image_to_emnist('./sample_images/m_kasova_original.jpg')"
   ]
  },
  {
   "cell_type": "code",
   "execution_count": 36,
   "metadata": {},
   "outputs": [],
   "source": [
    "img = np.array(img)"
   ]
  },
  {
   "cell_type": "code",
   "execution_count": 37,
   "metadata": {},
   "outputs": [],
   "source": [
    "def show_img(img):\n",
    "    img_flip = img.reshape(28, 28)\n",
    "    plt.imshow(img_flip, cmap='Greys_r')"
   ]
  },
  {
   "cell_type": "code",
   "execution_count": 38,
   "metadata": {},
   "outputs": [],
   "source": [
    "def run_prediction(img):\n",
    "    result = np.argmax(model.predict(img))\n",
    "    print(result)\n",
    "    print(model.predict(img))\n",
    "    print('Prediction: ', result, ', Char: ', classes[result])\n",
    "    show_img(img)"
   ]
  },
  {
   "cell_type": "code",
   "execution_count": 39,
   "metadata": {},
   "outputs": [
    {
     "name": "stdout",
     "output_type": "stream",
     "text": [
      "22\n",
      "[[8.6779555e-04 1.4721756e-07 2.5600822e-05 8.2572669e-06 2.4738596e-05\n",
      "  1.0327354e-05 5.2207621e-04 3.1844713e-06 4.9918564e-03 7.5925759e-04\n",
      "  3.0553067e-02 1.5383017e-01 4.4213439e-06 4.2566715e-04 1.2197470e-03\n",
      "  3.4954719e-05 6.9762190e-04 7.8688264e-03 8.2004698e-07 1.3654903e-07\n",
      "  1.3756674e-03 8.7518026e-07 5.6804848e-01 1.5827540e-02 1.0388411e-03\n",
      "  2.9459244e-03 2.6763227e-02 7.1625322e-02 9.4685929e-06 2.3197843e-07\n",
      "  2.7831283e-03 2.7186050e-05 1.4392962e-02 7.8736746e-05 4.6076249e-05\n",
      "  2.9593505e-04 8.2565714e-03 4.1068569e-03 2.6613332e-05 5.6253502e-04\n",
      "  4.8571401e-05 5.6653712e-02 3.3767073e-04 3.9845682e-03 1.8809943e-02\n",
      "  1.0396979e-04 7.6487680e-07]]\n",
      "Prediction:  22 , Char:  M\n"
     ]
    },
    {
     "data": {
      "image/png": "[encoded data removed]",
      "text/plain": [
       "<Figure size 432x288 with 1 Axes>"
      ]
     },
     "metadata": {
      "needs_background": "light"
     },
     "output_type": "display_data"
    }
   ],
   "source": [
    "run_prediction(img.reshape(1,28,28,1))"
   ]
  },
  {
   "cell_type": "code",
   "execution_count": null,
   "metadata": {},
   "outputs": [],
   "source": []
  }
 ],
 "metadata": {
  "kernelspec": {
   "display_name": "Python 3",
   "language": "python",
   "name": "python3"
  },
  "language_info": {
   "codemirror_mode": {
    "name": "ipython",
    "version": 3
   },
   "file_extension": ".py",
   "mimetype": "text/x-python",
   "name": "python",
   "nbconvert_exporter": "python",
   "pygments_lexer": "ipython3",
   "version": "3.7.2"
  }
 },
 "nbformat": 4,
 "nbformat_minor": 4
}
