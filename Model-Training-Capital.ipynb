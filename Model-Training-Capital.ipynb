{
 "cells": [
  {
   "cell_type": "code",
   "execution_count": 15,
   "metadata": {},
   "outputs": [],
   "source": [
    "#Imports\n",
    "import numpy as np \n",
    "import pandas as pd\n",
    "from tensorflow import keras\n",
    "import matplotlib.pyplot as plt"
   ]
  },
  {
   "cell_type": "markdown",
   "metadata": {},
   "source": [
    "## Load dataset\n"
   ]
  },
  {
   "cell_type": "code",
   "execution_count": 16,
   "metadata": {},
   "outputs": [],
   "source": [
    "train_path = './data/emnist-letters-train.csv'\n",
    "test_path = './data/emnist-letters-test.csv'"
   ]
  },
  {
   "cell_type": "code",
   "execution_count": 33,
   "metadata": {},
   "outputs": [],
   "source": [
    "train = pd.read_csv(train_path, header=None)\n",
    "classes = 'ABCDEFGHIJKLMNOPQRSTUVWXYZ'"
   ]
  },
  {
   "cell_type": "code",
   "execution_count": 34,
   "metadata": {},
   "outputs": [
    {
     "data": {
      "text/html": [
       "<div>\n",
       "<style scoped>\n",
       "    .dataframe tbody tr th:only-of-type {\n",
       "        vertical-align: middle;\n",
       "    }\n",
       "\n",
       "    .dataframe tbody tr th {\n",
       "        vertical-align: top;\n",
       "    }\n",
       "\n",
       "    .dataframe thead th {\n",
       "        text-align: right;\n",
       "    }\n",
       "</style>\n",
       "<table border=\"1\" class=\"dataframe\">\n",
       "  <thead>\n",
       "    <tr style=\"text-align: right;\">\n",
       "      <th></th>\n",
       "      <th>0</th>\n",
       "      <th>1</th>\n",
       "      <th>2</th>\n",
       "      <th>3</th>\n",
       "      <th>4</th>\n",
       "      <th>5</th>\n",
       "      <th>6</th>\n",
       "      <th>7</th>\n",
       "      <th>8</th>\n",
       "      <th>9</th>\n",
       "      <th>...</th>\n",
       "      <th>775</th>\n",
       "      <th>776</th>\n",
       "      <th>777</th>\n",
       "      <th>778</th>\n",
       "      <th>779</th>\n",
       "      <th>780</th>\n",
       "      <th>781</th>\n",
       "      <th>782</th>\n",
       "      <th>783</th>\n",
       "      <th>784</th>\n",
       "    </tr>\n",
       "  </thead>\n",
       "  <tbody>\n",
       "    <tr>\n",
       "      <th>0</th>\n",
       "      <td>23</td>\n",
       "      <td>0</td>\n",
       "      <td>0</td>\n",
       "      <td>0</td>\n",
       "      <td>0</td>\n",
       "      <td>0</td>\n",
       "      <td>0</td>\n",
       "      <td>0</td>\n",
       "      <td>0</td>\n",
       "      <td>0</td>\n",
       "      <td>...</td>\n",
       "      <td>0</td>\n",
       "      <td>0</td>\n",
       "      <td>0</td>\n",
       "      <td>0</td>\n",
       "      <td>0</td>\n",
       "      <td>0</td>\n",
       "      <td>0</td>\n",
       "      <td>0</td>\n",
       "      <td>0</td>\n",
       "      <td>0</td>\n",
       "    </tr>\n",
       "    <tr>\n",
       "      <th>1</th>\n",
       "      <td>7</td>\n",
       "      <td>0</td>\n",
       "      <td>0</td>\n",
       "      <td>0</td>\n",
       "      <td>0</td>\n",
       "      <td>0</td>\n",
       "      <td>0</td>\n",
       "      <td>0</td>\n",
       "      <td>0</td>\n",
       "      <td>0</td>\n",
       "      <td>...</td>\n",
       "      <td>0</td>\n",
       "      <td>0</td>\n",
       "      <td>0</td>\n",
       "      <td>0</td>\n",
       "      <td>0</td>\n",
       "      <td>0</td>\n",
       "      <td>0</td>\n",
       "      <td>0</td>\n",
       "      <td>0</td>\n",
       "      <td>0</td>\n",
       "    </tr>\n",
       "    <tr>\n",
       "      <th>2</th>\n",
       "      <td>16</td>\n",
       "      <td>0</td>\n",
       "      <td>0</td>\n",
       "      <td>0</td>\n",
       "      <td>0</td>\n",
       "      <td>0</td>\n",
       "      <td>0</td>\n",
       "      <td>0</td>\n",
       "      <td>0</td>\n",
       "      <td>0</td>\n",
       "      <td>...</td>\n",
       "      <td>0</td>\n",
       "      <td>0</td>\n",
       "      <td>0</td>\n",
       "      <td>0</td>\n",
       "      <td>0</td>\n",
       "      <td>0</td>\n",
       "      <td>0</td>\n",
       "      <td>0</td>\n",
       "      <td>0</td>\n",
       "      <td>0</td>\n",
       "    </tr>\n",
       "    <tr>\n",
       "      <th>3</th>\n",
       "      <td>15</td>\n",
       "      <td>0</td>\n",
       "      <td>0</td>\n",
       "      <td>0</td>\n",
       "      <td>0</td>\n",
       "      <td>0</td>\n",
       "      <td>0</td>\n",
       "      <td>0</td>\n",
       "      <td>0</td>\n",
       "      <td>0</td>\n",
       "      <td>...</td>\n",
       "      <td>0</td>\n",
       "      <td>0</td>\n",
       "      <td>0</td>\n",
       "      <td>0</td>\n",
       "      <td>0</td>\n",
       "      <td>0</td>\n",
       "      <td>0</td>\n",
       "      <td>0</td>\n",
       "      <td>0</td>\n",
       "      <td>0</td>\n",
       "    </tr>\n",
       "    <tr>\n",
       "      <th>4</th>\n",
       "      <td>23</td>\n",
       "      <td>0</td>\n",
       "      <td>0</td>\n",
       "      <td>0</td>\n",
       "      <td>0</td>\n",
       "      <td>0</td>\n",
       "      <td>0</td>\n",
       "      <td>0</td>\n",
       "      <td>0</td>\n",
       "      <td>0</td>\n",
       "      <td>...</td>\n",
       "      <td>0</td>\n",
       "      <td>0</td>\n",
       "      <td>0</td>\n",
       "      <td>0</td>\n",
       "      <td>0</td>\n",
       "      <td>0</td>\n",
       "      <td>0</td>\n",
       "      <td>0</td>\n",
       "      <td>0</td>\n",
       "      <td>0</td>\n",
       "    </tr>\n",
       "  </tbody>\n",
       "</table>\n",
       "<p>5 rows × 785 columns</p>\n",
       "</div>"
      ],
      "text/plain": [
       "   0    1    2    3    4    5    6    7    8    9    ...  775  776  777  778  \\\n",
       "0   23    0    0    0    0    0    0    0    0    0  ...    0    0    0    0   \n",
       "1    7    0    0    0    0    0    0    0    0    0  ...    0    0    0    0   \n",
       "2   16    0    0    0    0    0    0    0    0    0  ...    0    0    0    0   \n",
       "3   15    0    0    0    0    0    0    0    0    0  ...    0    0    0    0   \n",
       "4   23    0    0    0    0    0    0    0    0    0  ...    0    0    0    0   \n",
       "\n",
       "   779  780  781  782  783  784  \n",
       "0    0    0    0    0    0    0  \n",
       "1    0    0    0    0    0    0  \n",
       "2    0    0    0    0    0    0  \n",
       "3    0    0    0    0    0    0  \n",
       "4    0    0    0    0    0    0  \n",
       "\n",
       "[5 rows x 785 columns]"
      ]
     },
     "execution_count": 34,
     "metadata": {},
     "output_type": "execute_result"
    }
   ],
   "source": [
    "train.head()"
   ]
  },
  {
   "cell_type": "code",
   "execution_count": 35,
   "metadata": {},
   "outputs": [
    {
     "data": {
      "text/plain": [
       "(88800, 785)"
      ]
     },
     "execution_count": 35,
     "metadata": {},
     "output_type": "execute_result"
    }
   ],
   "source": [
    "train.shape"
   ]
  },
  {
   "cell_type": "markdown",
   "metadata": {},
   "source": [
    "### Images are fliped"
   ]
  },
  {
   "cell_type": "code",
   "execution_count": 36,
   "metadata": {},
   "outputs": [
    {
     "data": {
      "text/plain": [
       "<matplotlib.image.AxesImage at 0x2271e4ed978>"
      ]
     },
     "execution_count": 36,
     "metadata": {},
     "output_type": "execute_result"
    },
    {
     "data": {
      "image/png": "[encoded data removed]",
      "text/plain": [
       "<Figure size 432x288 with 1 Axes>"
      ]
     },
     "metadata": {
      "needs_background": "light"
     },
     "output_type": "display_data"
    }
   ],
   "source": [
    "plt.imshow(train.values[8,1:].reshape(28, 28), cmap='Greys_r')"
   ]
  },
  {
   "cell_type": "code",
   "execution_count": 37,
   "metadata": {},
   "outputs": [
    {
     "data": {
      "text/plain": [
       "<matplotlib.image.AxesImage at 0x2271e8e79b0>"
      ]
     },
     "execution_count": 37,
     "metadata": {},
     "output_type": "execute_result"
    },
    {
     "data": {
      "image/png": "[encoded data removed]",
      "text/plain": [
       "<Figure size 432x288 with 1 Axes>"
      ]
     },
     "metadata": {
      "needs_background": "light"
     },
     "output_type": "display_data"
    }
   ],
   "source": [
    "img_flip = np.transpose(train.values[8,1:].reshape(28, 28), axes=[1,0])\n",
    "plt.imshow(img_flip, cmap='Greys_r')"
   ]
  },
  {
   "cell_type": "code",
   "execution_count": 38,
   "metadata": {},
   "outputs": [],
   "source": [
    "def show_img(data, row):\n",
    "    img_flip = np.transpose(data.values[row,1:].reshape(28, 28), axes=[1,0])\n",
    "    classId = str(classes[data.values[row,0]])\n",
    "    \n",
    "    plt.title('Class:' + str(data.values[row,0]) + ', Label:' + classId)\n",
    "    plt.imshow(img_flip, cmap='Greys_r')"
   ]
  },
  {
   "cell_type": "code",
   "execution_count": 39,
   "metadata": {},
   "outputs": [
    {
     "data": {
      "image/png": "[encoded data removed]",
      "text/plain": [
       "<Figure size 432x288 with 1 Axes>"
      ]
     },
     "metadata": {
      "needs_background": "light"
     },
     "output_type": "display_data"
    }
   ],
   "source": [
    "show_img(train, 8)"
   ]
  },
  {
   "cell_type": "markdown",
   "metadata": {},
   "source": [
    "# Model architecture"
   ]
  },
  {
   "cell_type": "code",
   "execution_count": 40,
   "metadata": {},
   "outputs": [],
   "source": [
    "num_classes = 26\n",
    "img_size = 28\n",
    "\n",
    "def img_label_load(data_path, num_classes=None):\n",
    "    data = pd.read_csv(data_path, header=None)\n",
    "    data_rows = len(data)\n",
    "    \n",
    "    if not num_classes:\n",
    "        num_classes = len(data[0].unique())\n",
    "    \n",
    "    # Assuming 28x28 images\n",
    "    img_size = int(np.sqrt(len(data.iloc[0][1:])))\n",
    "    \n",
    "    imgs = np.transpose(data.values[:,1:].reshape(data_rows, img_size, img_size, 1), axes=[0,2,1,3])\n",
    "    \n",
    "    labels = keras.utils.to_categorical(data.values[:,0] - 1, num_classes) # one-hot encoding vectors\n",
    "    \n",
    "    return imgs/255., labels"
   ]
  },
  {
   "cell_type": "code",
   "execution_count": 41,
   "metadata": {},
   "outputs": [
    {
     "name": "stdout",
     "output_type": "stream",
     "text": [
      "Model: \"sequential_3\"\n",
      "_________________________________________________________________\n",
      "Layer (type)                 Output Shape              Param #   \n",
      "=================================================================\n",
      "conv2d_9 (Conv2D)            (None, 24, 24, 32)        832       \n",
      "_________________________________________________________________\n",
      "dropout_9 (Dropout)          (None, 24, 24, 32)        0         \n",
      "_________________________________________________________________\n",
      "max_pooling2d_6 (MaxPooling2 (None, 12, 12, 32)        0         \n",
      "_________________________________________________________________\n",
      "conv2d_10 (Conv2D)           (None, 10, 10, 64)        18496     \n",
      "_________________________________________________________________\n",
      "dropout_10 (Dropout)         (None, 10, 10, 64)        0         \n",
      "_________________________________________________________________\n",
      "max_pooling2d_7 (MaxPooling2 (None, 5, 5, 64)          0         \n",
      "_________________________________________________________________\n",
      "conv2d_11 (Conv2D)           (None, 3, 3, 128)         73856     \n",
      "_________________________________________________________________\n",
      "dropout_11 (Dropout)         (None, 3, 3, 128)         0         \n",
      "_________________________________________________________________\n",
      "flatten_3 (Flatten)          (None, 1152)              0         \n",
      "_________________________________________________________________\n",
      "dense_6 (Dense)              (None, 128)               147584    \n",
      "_________________________________________________________________\n",
      "dense_7 (Dense)              (None, 26)                3354      \n",
      "=================================================================\n",
      "Total params: 244,122\n",
      "Trainable params: 244,122\n",
      "Non-trainable params: 0\n",
      "_________________________________________________________________\n"
     ]
    }
   ],
   "source": [
    "model = keras.models.Sequential()\n",
    "\n",
    "model.add(keras.layers.Conv2D(filters=32, kernel_size=(5,5), activation='relu', input_shape=(img_size,img_size,1)))\n",
    "model.add(keras.layers.Dropout(.1))\n",
    "model.add(keras.layers.MaxPooling2D(pool_size=(2,2)))\n",
    "\n",
    "model.add(keras.layers.Conv2D(filters=64, kernel_size=(3,3), activation='relu'))\n",
    "model.add(keras.layers.Dropout(.1))\n",
    "model.add(keras.layers.MaxPooling2D(pool_size=(2,2)))\n",
    "\n",
    "model.add(keras.layers.Conv2D(filters=128, kernel_size=(3,3), activation='relu'))\n",
    "model.add(keras.layers.Dropout(.1))\n",
    "\n",
    "model.add(keras.layers.Flatten())\n",
    "model.add(keras.layers.Dense(units=128, activation='relu'))\n",
    "\n",
    "model.add(keras.layers.Dense(units=num_classes, activation='softmax'))\n",
    "\n",
    "model.compile(loss='categorical_crossentropy', optimizer='Adam', metrics=['accuracy'])\n",
    "\n",
    "model.summary()"
   ]
  },
  {
   "cell_type": "markdown",
   "metadata": {},
   "source": [
    "# Train"
   ]
  },
  {
   "cell_type": "code",
   "execution_count": 42,
   "metadata": {},
   "outputs": [
    {
     "name": "stdout",
     "output_type": "stream",
     "text": [
      "(88800, 28, 28, 1)\n"
     ]
    }
   ],
   "source": [
    "X, y = img_label_load(train_path)\n",
    "print(X.shape)"
   ]
  },
  {
   "cell_type": "code",
   "execution_count": 82,
   "metadata": {},
   "outputs": [
    {
     "name": "stdout",
     "output_type": "stream",
     "text": [
      "Epoch 1/15\n",
      "511/512 [============================>.] - ETA: 0s - loss: 0.0950 - acc: 0.9621Epoch 1/15\n",
      "555/512 [================================] - 3s 5ms/step - loss: 0.2118 - acc: 0.9404\n",
      "512/512 [==============================] - 17s 33ms/step - loss: 0.0952 - acc: 0.9620 - val_loss: 0.1986 - val_acc: 0.9404\n",
      "Epoch 2/15\n",
      "511/512 [============================>.] - ETA: 0s - loss: 0.1060 - acc: 0.9589Epoch 1/15\n",
      "555/512 [================================] - 3s 5ms/step - loss: 0.2112 - acc: 0.9381\n",
      "512/512 [==============================] - 17s 33ms/step - loss: 0.1063 - acc: 0.9589 - val_loss: 0.1952 - val_acc: 0.9381\n",
      "Epoch 3/15\n",
      "510/512 [============================>.] - ETA: 0s - loss: 0.1004 - acc: 0.9598Epoch 1/15\n",
      "555/512 [================================] - 3s 5ms/step - loss: 0.2155 - acc: 0.9367\n",
      "512/512 [==============================] - 17s 33ms/step - loss: 0.1004 - acc: 0.9597 - val_loss: 0.1913 - val_acc: 0.9367\n",
      "Epoch 4/15\n",
      "510/512 [============================>.] - ETA: 0s - loss: 0.1065 - acc: 0.9591Epoch 1/15\n",
      "555/512 [================================] - 3s 5ms/step - loss: 0.2123 - acc: 0.9378\n",
      "512/512 [==============================] - 17s 34ms/step - loss: 0.1066 - acc: 0.9589 - val_loss: 0.1973 - val_acc: 0.9378\n",
      "Epoch 5/15\n",
      "511/512 [============================>.] - ETA: 0s - loss: 0.0883 - acc: 0.9642Epoch 1/15\n",
      "555/512 [================================] - 3s 5ms/step - loss: 0.2274 - acc: 0.9372\n",
      "512/512 [==============================] - 17s 34ms/step - loss: 0.0884 - acc: 0.9642 - val_loss: 0.2049 - val_acc: 0.9372\n",
      "Epoch 6/15\n",
      "510/512 [============================>.] - ETA: 0s - loss: 0.0882 - acc: 0.9647Epoch 1/15\n",
      "555/512 [================================] - 3s 5ms/step - loss: 0.2229 - acc: 0.9374\n",
      "512/512 [==============================] - 17s 34ms/step - loss: 0.0880 - acc: 0.9648 - val_loss: 0.2093 - val_acc: 0.9374\n",
      "Epoch 7/15\n",
      "511/512 [============================>.] - ETA: 0s - loss: 0.0971 - acc: 0.9612Epoch 1/15\n",
      "555/512 [================================] - 3s 5ms/step - loss: 0.2291 - acc: 0.9347\n",
      "512/512 [==============================] - 18s 35ms/step - loss: 0.0971 - acc: 0.9612 - val_loss: 0.2158 - val_acc: 0.9347\n",
      "Epoch 8/15\n",
      "510/512 [============================>.] - ETA: 0s - loss: 0.0981 - acc: 0.9616Epoch 1/15\n",
      "555/512 [================================] - 3s 5ms/step - loss: 0.2191 - acc: 0.9362\n",
      "512/512 [==============================] - 18s 36ms/step - loss: 0.0979 - acc: 0.9617 - val_loss: 0.2070 - val_acc: 0.9362\n",
      "Epoch 9/15\n",
      "510/512 [============================>.] - ETA: 0s - loss: 0.0957 - acc: 0.9615- ETA: 0s - loss: 0.0962 - acc: Epoch 1/15\n",
      "555/512 [================================] - 3s 5ms/step - loss: 0.2151 - acc: 0.9370\n",
      "512/512 [==============================] - 18s 35ms/step - loss: 0.0957 - acc: 0.9614 - val_loss: 0.2076 - val_acc: 0.9370\n",
      "Epoch 10/15\n",
      "510/512 [============================>.] - ETA: 0s - loss: 0.0831 - acc: 0.9664Epoch 1/15\n",
      "555/512 [================================] - 3s 5ms/step - loss: 0.2210 - acc: 0.9374\n",
      "512/512 [==============================] - 17s 33ms/step - loss: 0.0830 - acc: 0.9664 - val_loss: 0.2089 - val_acc: 0.9374\n",
      "Epoch 11/15\n",
      "510/512 [============================>.] - ETA: 0s - loss: 0.0906 - acc: 0.9642Epoch 1/15\n",
      "555/512 [================================] - 3s 5ms/step - loss: 0.2177 - acc: 0.9378\n",
      "512/512 [==============================] - 17s 34ms/step - loss: 0.0904 - acc: 0.9642 - val_loss: 0.1997 - val_acc: 0.9378\n",
      "Epoch 12/15\n",
      "511/512 [============================>.] - ETA: 0s - loss: 0.0979 - acc: 0.9614Epoch 1/15\n",
      "555/512 [================================] - 3s 5ms/step - loss: 0.2107 - acc: 0.9407\n",
      "512/512 [==============================] - 18s 35ms/step - loss: 0.0979 - acc: 0.9615 - val_loss: 0.1979 - val_acc: 0.9407\n",
      "Epoch 13/15\n",
      "510/512 [============================>.] - ETA: 0s - loss: 0.0961 - acc: 0.9602Epoch 1/15\n",
      "555/512 [================================] - 3s 5ms/step - loss: 0.2129 - acc: 0.9381\n",
      "512/512 [==============================] - 17s 34ms/step - loss: 0.0960 - acc: 0.9603 - val_loss: 0.2014 - val_acc: 0.9381\n",
      "Epoch 14/15\n",
      "510/512 [============================>.] - ETA: 0s - loss: 0.0784 - acc: 0.9691Epoch 1/15\n",
      "555/512 [================================] - 3s 6ms/step - loss: 0.2249 - acc: 0.9367\n",
      "512/512 [==============================] - 17s 34ms/step - loss: 0.0786 - acc: 0.9690 - val_loss: 0.2145 - val_acc: 0.9367\n",
      "Epoch 15/15\n",
      "510/512 [============================>.] - ETA: 0s - loss: 0.0827 - acc: 0.9643Epoch 1/15\n",
      "555/512 [================================] - 3s 5ms/step - loss: 0.2417 - acc: 0.9378\n",
      "512/512 [==============================] - 18s 35ms/step - loss: 0.0827 - acc: 0.9643 - val_loss: 0.2278 - val_acc: 0.9378\n"
     ]
    }
   ],
   "source": [
    "data_generator = keras.preprocessing.image.ImageDataGenerator(validation_split=.2)\n",
    "\n",
    "data_generator_with_aug = keras.preprocessing.image.ImageDataGenerator(validation_split=.2,\n",
    "                                            width_shift_range=.2, height_shift_range=.2,\n",
    "                                            rotation_range=60, zoom_range=.2, shear_range=.3)\n",
    "\n",
    "training_data_generator = data_generator.flow(X, y, subset='training')\n",
    "validation_data_generator = data_generator.flow(X, y, subset='validation')\n",
    "history = model.fit_generator(training_data_generator, \n",
    "                              steps_per_epoch=512, epochs=15,\n",
    "                              validation_data=validation_data_generator)"
   ]
  },
  {
   "cell_type": "code",
   "execution_count": 83,
   "metadata": {},
   "outputs": [
    {
     "data": {
      "text/plain": [
       "[0.09900221215135224, 0.9645045]"
      ]
     },
     "execution_count": 83,
     "metadata": {},
     "output_type": "execute_result"
    }
   ],
   "source": [
    "test_X, test_y = img_label_load(test_path)\n",
    "test_data_generator = data_generator.flow(X, y)\n",
    "\n",
    "model.evaluate_generator(test_data_generator)"
   ]
  },
  {
   "cell_type": "markdown",
   "metadata": {},
   "source": [
    "# Save model"
   ]
  },
  {
   "cell_type": "code",
   "execution_count": 71,
   "metadata": {},
   "outputs": [],
   "source": [
    "model.save('./model2-full-capital-20-epochs.h5')"
   ]
  },
  {
   "cell_type": "markdown",
   "metadata": {},
   "source": [
    "# Plot loss and accuracy"
   ]
  },
  {
   "cell_type": "code",
   "execution_count": 84,
   "metadata": {},
   "outputs": [
    {
     "name": "stdout",
     "output_type": "stream",
     "text": [
      "dict_keys(['loss', 'acc', 'val_loss', 'val_acc'])\n"
     ]
    },
    {
     "data": {
      "image/png": "[encoded data removed]",
      "text/plain": [
       "<Figure size 432x288 with 1 Axes>"
      ]
     },
     "metadata": {
      "needs_background": "light"
     },
     "output_type": "display_data"
    },
    {
     "data": {
      "image/png": "[encoded data removed]",
      "text/plain": [
       "<Figure size 432x288 with 1 Axes>"
      ]
     },
     "metadata": {
      "needs_background": "light"
     },
     "output_type": "display_data"
    }
   ],
   "source": [
    "import matplotlib.pyplot as plt\n",
    "\n",
    "print(history.history.keys())\n",
    "\n",
    "# accuracy\n",
    "plt.plot(history.history['acc'])\n",
    "plt.plot(history.history['val_acc'])\n",
    "plt.title('model accuracy')\n",
    "plt.ylabel('accuracy')\n",
    "plt.xlabel('epoch')\n",
    "plt.legend(['train', 'validation'], loc='lower right')\n",
    "plt.show()\n",
    "\n",
    "# loss\n",
    "plt.plot(history.history['loss'])\n",
    "plt.plot(history.history['val_loss'])\n",
    "plt.title('model loss')\n",
    "plt.ylabel('loss')\n",
    "plt.xlabel('epoch')\n",
    "plt.legend(['train', 'validation'], loc='upper right')\n",
    "plt.show()"
   ]
  },
  {
   "cell_type": "markdown",
   "metadata": {},
   "source": [
    "# Test on custom images"
   ]
  },
  {
   "cell_type": "code",
   "execution_count": 85,
   "metadata": {},
   "outputs": [],
   "source": [
    "def run_prediction(img):\n",
    "    result = np.argmax(model.predict(img))\n",
    "    confidence = max(model.predict(img)[0])\n",
    "    \n",
    "    return result, confidence"
   ]
  },
  {
   "cell_type": "markdown",
   "metadata": {},
   "source": [
    "### Prepare images for the imput of the NN"
   ]
  },
  {
   "cell_type": "code",
   "execution_count": 86,
   "metadata": {},
   "outputs": [],
   "source": [
    "from PIL import Image, ImageFilter\n",
    "\n",
    "def image_to_emnist(img):\n",
    "    img = img.resize((28, 28), Image.ANTIALIAS).filter(ImageFilter.SHARPEN)\n",
    "    \n",
    "    img_canvas = Image.new('L', (28, 28), (255))\n",
    "    img_canvas.paste(img)\n",
    "    \n",
    "    img_data = list(img_canvas.getdata())\n",
    "\n",
    "    #Normalize pixels to 0 and 1. 0 is pure white, 1 is pure black.\n",
    "    img_normalized = [(255 - x) * 1.0 / 255.0 for x in img_data]\n",
    "    \n",
    "    return img_normalized"
   ]
  },
  {
   "cell_type": "code",
   "execution_count": 87,
   "metadata": {},
   "outputs": [],
   "source": [
    "imgPath = './sample_images/m_kasova_original.jpg'"
   ]
  },
  {
   "cell_type": "code",
   "execution_count": 88,
   "metadata": {},
   "outputs": [],
   "source": [
    "img = Image.open(imgPath)\n",
    "\n",
    "img_emnist = np.array(image_to_emnist(img)).reshape(1,28,28,1)"
   ]
  },
  {
   "cell_type": "code",
   "execution_count": 89,
   "metadata": {},
   "outputs": [],
   "source": [
    "result, confidence = run_prediction(img_emnist)"
   ]
  },
  {
   "cell_type": "code",
   "execution_count": 90,
   "metadata": {},
   "outputs": [
    {
     "name": "stdout",
     "output_type": "stream",
     "text": [
      "Prediction: A , Confidence: 0.04915703\n"
     ]
    },
    {
     "data": {
      "image/png": "[encoded data removed]",
      "text/plain": [
       "<Figure size 432x288 with 1 Axes>"
      ]
     },
     "metadata": {
      "needs_background": "light"
     },
     "output_type": "display_data"
    }
   ],
   "source": [
    "plt.imshow(img_emnist.reshape(28,28), cmap='Greys_r')\n",
    "print('Prediction:', classes[result], ', Confidence:', confidence)"
   ]
  },
  {
   "cell_type": "code",
   "execution_count": null,
   "metadata": {},
   "outputs": [],
   "source": []
  },
  {
   "cell_type": "code",
   "execution_count": null,
   "metadata": {},
   "outputs": [],
   "source": []
  }
 ],
 "metadata": {
  "kernelspec": {
   "display_name": "Python 3",
   "language": "python",
   "name": "python3"
  },
  "language_info": {
   "codemirror_mode": {
    "name": "ipython",
    "version": 3
   },
   "file_extension": ".py",
   "mimetype": "text/x-python",
   "name": "python",
   "nbconvert_exporter": "python",
   "pygments_lexer": "ipython3",
   "version": "3.7.2"
  }
 },
 "nbformat": 4,
 "nbformat_minor": 4
}
